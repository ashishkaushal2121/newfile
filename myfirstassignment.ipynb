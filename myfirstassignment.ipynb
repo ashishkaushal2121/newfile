{
 "cells": [
  {
   "cell_type": "markdown",
   "id": "aa9bca17-379d-4dac-aed6-263fa579cf8e",
   "metadata": {},
   "source": [
    "\"My Jupyter notebook on IBM Watson Studio\""
   ]
  },
  {
   "cell_type": "markdown",
   "id": "c67227df-54a5-4b8b-a791-8bf744365549",
   "metadata": {},
   "source": [
    "\"ASHISH KAUSHAL\"\n",
    "I HAVE CREATED THE PUBLIC DOMAIN FILE BUT NOW WATSON IS NOT ALLOWING THE FREE USAGE FOR DECEMBER MONTH SO I HAVE CREATED THIS FILE IN PYTHON "
   ]
  },
  {
   "cell_type": "markdown",
   "id": "27387b2f-4964-44a9-b85a-aeb98795c035",
   "metadata": {},
   "source": [
    "I want to become a data scientist to grow in my career and learn to work with data and find out valuable information for my organization."
   ]
  },
  {
   "cell_type": "markdown",
   "id": "b6da19eb-3b97-428e-9f01-f97e650356b1",
   "metadata": {},
   "source": [
    "\"THE PROGRAM ADDS TWO NUMBERS\""
   ]
  },
  {
   "cell_type": "code",
   "execution_count": 4,
   "id": "587543f5-9102-4b35-aa98-8552e97fd442",
   "metadata": {},
   "outputs": [
    {
     "name": "stdout",
     "output_type": "stream",
     "text": [
      "The addition of two integers is:  67\n"
     ]
    }
   ],
   "source": [
    "num1 = 45\n",
    "num2 = 22\n",
    "sum = num1 + num2\n",
    "print(\"The addition of two integers is: \",sum)"
   ]
  },
  {
   "cell_type": "markdown",
   "id": "0ff7527e-4ead-44a3-9b2e-4d6017135f62",
   "metadata": {},
   "source": [
    "\"this is first line <hr/> the second line follows\"\n",
    "FOR BULLET LIST WE WRITE AS \n",
    "from docx import Document\n",
    "doc = Document()\n",
    "p = doc.add_paragraph()\n",
    "p.style = 'List Bullet'\n",
    "FOR IMAGE WE HAVE \n",
    "from PIL import Image\n",
    "myImage = Image.open(\"file:///C:/Users/smart/Desktop/ibm%20usage%20full.JPG\");\n",
    "myImage.show();\n",
    "FOR NUMBERED LIST WE HAVE \n",
    "n = int(input(\"Enter N: \"))\n",
    "l = list(range(1, n+1))\n",
    "print(l)\n",
    "\n",
    "I HAVE CREATED THE PUBLIC DOMAIN FILE BUT NOW WATSON IS NOT ALLOWING THE FREE USAGE FOR DECEMBER MONTH SO I HAVE CREATED THIS FILE IN PYTHON \n",
    "\n",
    "\n",
    "https://eu-de.dataplatform.cloud.ibm.com/analytics/notebooks/v2/25339b46-5c17-4141-80b3-8157caf3c50d/view?access_token=ab4ddbd61c25433469bfd665cf9506ce5ab7a1a6931c79793abe92c74b2d55ac\n"
   ]
  }
 ],
 "metadata": {
  "kernelspec": {
   "display_name": "Python",
   "language": "python",
   "name": "conda-env-python-py"
  },
  "language_info": {
   "codemirror_mode": {
    "name": "ipython",
    "version": 3
   },
   "file_extension": ".py",
   "mimetype": "text/x-python",
   "name": "python",
   "nbconvert_exporter": "python",
   "pygments_lexer": "ipython3",
   "version": "3.7.12"
  }
 },
 "nbformat": 4,
 "nbformat_minor": 5
}
