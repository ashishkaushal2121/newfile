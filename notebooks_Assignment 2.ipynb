{
  "metadata": {
    "toc-autonumbering": false,
    "toc-showmarkdowntxt": true,
    "toc-showcode": false,
    "toc-showtags": true,
    "language_info": {
      "codemirror_mode": {
        "name": "python",
        "version": 3
      },
      "file_extension": ".py",
      "mimetype": "text/x-python",
      "name": "python",
      "nbconvert_exporter": "python",
      "pygments_lexer": "ipython3",
      "version": "3.8"
    },
    "kernelspec": {
      "name": "python",
      "display_name": "Python (Pyodide)",
      "language": "python"
    }
  },
  "nbformat_minor": 4,
  "nbformat": 4,
  "cells": [
    {
      "cell_type": "markdown",
      "source": "\"My Jupyter Notebook on IBM Watson Studio\"",
      "metadata": {}
    },
    {
      "cell_type": "markdown",
      "source": "\"ASHISH KAUSHAL \n\ni am a product manager\"",
      "metadata": {}
    },
    {
      "cell_type": "markdown",
      "source": "\"I am interested in data science because i want to solve business problems and get valuble inputs for my company and conribute to my intellectual growth\".\n\n\n(the font is not coming in italics in jupyter notebook )",
      "metadata": {}
    },
    {
      "cell_type": "markdown",
      "source": "The following code adds two numbers  and gives the result as sum",
      "metadata": {}
    },
    {
      "cell_type": "code",
      "source": "num1 = 45\nnum2 = 22\nsum = num1 + num2\nprint(\"The addition of two integers is: \",sum)",
      "metadata": {
        "trusted": true
      },
      "execution_count": 1,
      "outputs": [
        {
          "name": "stdout",
          "text": "The addition of two integers is:  67\n",
          "output_type": "stream"
        }
      ]
    },
    {
      "cell_type": "code",
      "source": "thislist = [\"apple\", \"banana\", \"cherry\"]\nprint(thislist)",
      "metadata": {
        "trusted": true
      },
      "execution_count": 4,
      "outputs": [
        {
          "name": "stdout",
          "text": "['apple', 'banana', 'cherry']\n",
          "output_type": "stream"
        }
      ]
    },
    {
      "cell_type": "code",
      "source": " blob = [\"a\", \"b\", \"c\", \"d\", \"e\", \"f\"]\n\nfor number, letter in enumerate(blob):\n    print(number, letter)",
      "metadata": {
        "trusted": true
      },
      "execution_count": 13,
      "outputs": [
        {
          "name": "stdout",
          "text": "0 a\n1 b\n2 c\n3 d\n4 e\n5 f\n",
          "output_type": "stream"
        }
      ]
    },
    {
      "cell_type": "code",
      "source": "import json",
      "metadata": {
        "trusted": true
      },
      "execution_count": 22,
      "outputs": []
    },
    {
      "cell_type": "code",
      "source": "# some JSON:\nx =  '{ \"name\":\"John\", \"age\":30, \"city\":\"New York\"}'\n\n# parse x:\ny = json.loads(x)\n\n# the result is a Python dictionary:\nprint(y[\"age\"])",
      "metadata": {
        "trusted": true
      },
      "execution_count": 23,
      "outputs": [
        {
          "name": "stdout",
          "text": "30\n",
          "output_type": "stream"
        }
      ]
    },
    {
      "cell_type": "code",
      "source": "def my_function(fname):\n  print(fname + \" Refsnes\")\n\nmy_function(\"Emil\")\nmy_function(\"Tobias\")\nmy_function(\"Linus\")",
      "metadata": {
        "trusted": true
      },
      "execution_count": 24,
      "outputs": [
        {
          "name": "stdout",
          "text": "Emil Refsnes\nTobias Refsnes\nLinus Refsnes\n",
          "output_type": "stream"
        }
      ]
    },
    {
      "cell_type": "code",
      "source": "import re",
      "metadata": {
        "trusted": true
      },
      "execution_count": 25,
      "outputs": []
    },
    {
      "cell_type": "code",
      "source": "txt = \"The rain in Spain\"\nx = re.findall(\"ai\", txt)\nprint(x)",
      "metadata": {
        "trusted": true
      },
      "execution_count": 27,
      "outputs": [
        {
          "name": "stdout",
          "text": "['ai', 'ai']\n",
          "output_type": "stream"
        }
      ]
    },
    {
      "cell_type": "markdown",
      "source": "I AM MAKING THIS FILE ON GITHUB AS THE IBM WATSON STUDIO USAGE LIMIT IS EXCEEDED ,I HAVE FOLLOWED ALL THE INSTRUCTIONS AS GIVEN FOR THE ASSIGNMENT.\nTHANKS AND REGARDS ",
      "metadata": {}
    }
  ]
}